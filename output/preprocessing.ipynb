{
 "cells": [
  {
   "cell_type": "code",
   "execution_count": 1,
   "metadata": {},
   "outputs": [
    {
     "name": "stderr",
     "output_type": "stream",
     "text": [
      "Using TensorFlow backend.\n"
     ]
    }
   ],
   "source": [
    "#!pip install ../input/mtcnn-package/mtcnn-0.1.0-py3-none-any.whl\n",
    "\n",
    "import pandas as pd\n",
    "import numpy as np\n",
    "import matplotlib.pyplot as plt\n",
    "%matplotlib inline\n",
    "from matplotlib.patches import Rectangle # For drawing rectangle around faces\n",
    "\n",
    "import os\n",
    "import sys\n",
    "\n",
    "import keras\n",
    "from keras import Model, Sequential\n",
    "from keras.layers import *\n",
    "from keras.optimizers import *\n",
    "\n",
    "import torch\n",
    "\n",
    "from sklearn.model_selection import train_test_split\n",
    "from sklearn.metrics import log_loss\n",
    "\n",
    "import cv2\n",
    "from mtcnn import MTCNN\n",
    "\n",
    "from tqdm.notebook import tqdm\n",
    "import random\n",
    "\n",
    "import warnings\n",
    "warnings.filterwarnings(\"ignore\")"
   ]
  },
  {
   "cell_type": "markdown",
   "metadata": {},
   "source": [
    "First we define our directory paths and directory lists - including the directory where we will save our train and test images that we extract from the videos. "
   ]
  },
  {
   "cell_type": "code",
   "execution_count": 2,
   "metadata": {},
   "outputs": [],
   "source": [
    "train_sample_videos_path = '../input/train_sample_videos/'\n",
    "test_videos_path = '../input/test_videos/'\n",
    "train_sample_images_path = \"../input/train_sample_images/\" # path to save train images to\n",
    "test_images_path = \"../input/test_images/\" # path to save test images to\n",
    "\n",
    "test_videos = os.listdir(test_videos_path) # List test vids"
   ]
  },
  {
   "cell_type": "markdown",
   "metadata": {},
   "source": [
    "Now we loop round all the videos in our directory to extract images for each video.\n",
    "\n",
    "**TO DO:**\n",
    "\n",
    " - **Be able to define the number of frames to extract, and where these frames are (e.g. frame 1,5,10,... or randomly select frame numbers)**\n",
    " - **Have file path as an arg so we can define train or test file paths**"
   ]
  },
  {
   "cell_type": "code",
   "execution_count": 15,
   "metadata": {},
   "outputs": [],
   "source": [
    "def extract_faces(videos_dir_path, images_dir_path):\n",
    "    \"\"\"\n",
    "    Inputs a directory of videos, extracts n frames. \n",
    "    Outputs images of ANY faces detected in those frames.\n",
    "    \n",
    "    videos_dir_path: path to your directory of videos\n",
    "    images_dir_path: path to where you'll save your images to\n",
    "    \"\"\"\n",
    "    \n",
    "    videos_dir = os.listdir(videos_dir_path) # List train vids\n",
    "    \n",
    "    # Extract images from videos\n",
    "    for i in range(0, 5): # Edited out len(videos_dir) for dev\n",
    "        file_name = videos_dir[i] # file name with .ext\n",
    "        vid_name = file_name.split('.')[0] # file name without .ext\n",
    "        file_path = videos_dir_path + file_name # full file path\n",
    "    \n",
    "        cap = cv2.VideoCapture(file_path)\n",
    "        total_frames = cap.get(7)\n",
    "        cap.set(1, 100)\n",
    "        ret, frame = cap.read()\n",
    "        cv2.imwrite(os.path.join(images_dir_path, vid_name + '.jpg'), frame) # Save frame as image\n",
    "        \n",
    "        cv2.destroyAllWindows()\n",
    "        cap.release()    \n",
    "    \n",
    "    images_dir = os.listdir(images_dir_path) # List newly created training images\n",
    "    detector = MTCNN()\n",
    "    \n",
    "    for image in range(0, len(images_dir)):\n",
    "        image_name = images_dir[image].split('.')[0] # Get image name without .ext\n",
    "        \n",
    "        # Read image and detect faces\n",
    "        frame = cv2.imread(images_dir_path + images_dir[image])\n",
    "        result = detector.detect_faces(frame)\n",
    "        \n",
    "        # Extract and save faces as their own images\n",
    "        for face in range(0, len(result)):    \n",
    "            startX, startY, endX, endY = result[face]['box'] # Get box coordinates\n",
    "            crop_img = frame[startY:startY + endY, startX:startX + endX] # extract just the face\n",
    "            cv2.imwrite(images_dir_path + image_name + '_' + str(face) + '.jpg', crop_img)\n",
    "            \n",
    "        os.remove(images_dir_path + images_dir[image]) # Delete original image\n"
   ]
  },
  {
   "cell_type": "code",
   "execution_count": 16,
   "metadata": {},
   "outputs": [],
   "source": [
    "extract_faces(train_sample_videos_path, train_sample_images_path)"
   ]
  },
  {
   "cell_type": "code",
   "execution_count": null,
   "metadata": {},
   "outputs": [],
   "source": []
  },
  {
   "cell_type": "code",
   "execution_count": null,
   "metadata": {},
   "outputs": [],
   "source": []
  },
  {
   "cell_type": "code",
   "execution_count": null,
   "metadata": {},
   "outputs": [],
   "source": []
  },
  {
   "cell_type": "code",
   "execution_count": 10,
   "metadata": {},
   "outputs": [],
   "source": [
    "train_sample_videos_path = '../input/train_sample_videos/'\n",
    "train_sample_images_path = \"../input/train_sample_images/\" # path to save train images to\n",
    "videos_dir = os.listdir(train_sample_videos_path) # List train vids"
   ]
  },
  {
   "cell_type": "code",
   "execution_count": null,
   "metadata": {},
   "outputs": [],
   "source": []
  },
  {
   "cell_type": "code",
   "execution_count": 55,
   "metadata": {},
   "outputs": [],
   "source": [
    "file_name = train_sample_videos[0] # file name with .ext\n",
    "vid_name = file_name.split('.')[0] # file name without .ext\n",
    "file_path = train_sample_videos_path + file_name # full file path\n",
    "\n",
    "# If frames is a list, then iterate over the len of the list and pick out each element\n",
    "# If frames is a number then randomly select the number. The random number MUST be within \n",
    "# the length of the frames available in the video.\n",
    "\n",
    "def func(frames=1):\n",
    "    if type(frames) == list:\n",
    "        for num in range(0, len(frames)):\n",
    "            cap = cv2.VideoCapture(file_path)\n",
    "            total_frames = cap.get(7)\n",
    "            vid_length = int(cap.get(cv2.CAP_PROP_FRAME_COUNT))\n",
    "    \n",
    "            cap.set(1, num) # EDIT HERE FOR FRAME NUMBER\n",
    "    \n",
    "            ret, frame = cap.read()\n",
    "            image_name = vid_name + '-' + str(num) + '.jpg'\n",
    "            cv2.imwrite(os.path.join(train_sample_images_path, image_name), frame) # Save frame as image\n",
    "    \n",
    "            cv2.destroyAllWindows()\n",
    "            cap.release()\n",
    "    else:\n",
    "        for num in range(0, frames):\n",
    "            cap = cv2.VideoCapture(file_path)\n",
    "            total_frames = cap.get(7)\n",
    "            vid_length = int(cap.get(cv2.CAP_PROP_FRAME_COUNT))\n",
    "    \n",
    "            cap.set(1, random.randint(0, vid_length)) # EDIT HERE FOR FRAME NUMBER\n",
    "    \n",
    "            ret, frame = cap.read()\n",
    "            image_name = vid_name + '-' + str(num) + '.jpg'\n",
    "            cv2.imwrite(os.path.join(train_sample_images_path, image_name), frame) # Save frame as image\n",
    "    \n",
    "            cv2.destroyAllWindows()\n",
    "            cap.release()"
   ]
  },
  {
   "cell_type": "code",
   "execution_count": 57,
   "metadata": {},
   "outputs": [],
   "source": [
    "func(frames=[1,55,999])"
   ]
  },
  {
   "cell_type": "code",
   "execution_count": 52,
   "metadata": {},
   "outputs": [
    {
     "name": "stdout",
     "output_type": "stream",
     "text": [
      "1\n",
      "6\n",
      "2\n",
      "9\n"
     ]
    }
   ],
   "source": [
    "l = [1,6,2,9]\n",
    "for i in l:\n",
    "    print(i)"
   ]
  },
  {
   "cell_type": "code",
   "execution_count": null,
   "metadata": {},
   "outputs": [],
   "source": []
  },
  {
   "cell_type": "code",
   "execution_count": null,
   "metadata": {},
   "outputs": [],
   "source": []
  },
  {
   "cell_type": "code",
   "execution_count": null,
   "metadata": {},
   "outputs": [],
   "source": []
  },
  {
   "cell_type": "code",
   "execution_count": null,
   "metadata": {},
   "outputs": [],
   "source": [
    "from facenet_pytorch import MTCNN, InceptionResnetV1\n",
    "from PIL import Image\n",
    "\n",
    "device = 'cuda:0' if torch.cuda.is_available() else 'cpu'\n",
    "\n",
    "# Load face detector\n",
    "mtcnn = MTCNN(device=device).eval()\n",
    "\n",
    "# Load facial recognition model\n",
    "resnet = InceptionResnetV1(pretrained='vggface2', num_classes=2, device=device).eval()"
   ]
  },
  {
   "cell_type": "code",
   "execution_count": null,
   "metadata": {},
   "outputs": [],
   "source": [
    "# Get all test videos\n",
    "filenames = glob.glob('../input/train_sample_videos/*.mp4')\n",
    "\n",
    "# Number of frames to sample (evenly spaced) from each video\n",
    "n_frames = 10\n",
    "\n",
    "X = []\n",
    "with torch.no_grad():\n",
    "    for i, filename in enumerate(filenames):\n",
    "        print(f'Processing {i+1:5n} of {len(filenames):5n} videos\\r', end='')\n",
    "        \n",
    "        # Create video reader and find length\n",
    "        v_cap = cv2.VideoCapture(filename)\n",
    "        v_len = int(v_cap.get(cv2.CAP_PROP_FRAME_COUNT))\n",
    "            \n",
    "        # Pick 'n_frames' evenly spaced frames to sample\n",
    "        sample = np.linspace(0, v_len - 1, n_frames).round().astype(int)\n",
    "        imgs = []\n",
    "        for j in range(v_len):\n",
    "            success, vframe = v_cap.read()\n",
    "            vframe = cv2.cvtColor(vframe, cv2.COLOR_BGR2RGB)\n",
    "            if j in sample:\n",
    "                imgs.append(Image.fromarray(vframe))\n",
    "        v_cap.release()\n",
    "            \n",
    "        # Pass image batch to MTCNN as a list of PIL images\n",
    "        faces = mtcnn(imgs)\n",
    "            \n",
    "        # Filter out frames without faces\n",
    "        faces = [f for f in faces if f is not None]\n",
    "        faces = torch.stack(faces).to(device)\n",
    "            \n",
    "        # Generate facial feature vectors using a pretrained model\n",
    "        embeddings = resnet(faces)\n",
    "            \n",
    "        # Calculate centroid for video and distance of each face's feature vector from centroid\n",
    "        centroid = embeddings.mean(dim=0)\n",
    "        X.append((embeddings - centroid).norm(dim=1).cpu().numpy())"
   ]
  },
  {
   "cell_type": "code",
   "execution_count": null,
   "metadata": {},
   "outputs": [],
   "source": [
    "embeddings"
   ]
  },
  {
   "cell_type": "code",
   "execution_count": null,
   "metadata": {},
   "outputs": [],
   "source": []
  }
 ],
 "metadata": {
  "kernelspec": {
   "display_name": "'Python Interactive'",
   "language": "python",
   "name": "a8dae707-2c7a-4728-90dd-23e595076851"
  },
  "language_info": {
   "codemirror_mode": {
    "name": "ipython",
    "version": 3
   },
   "file_extension": ".py",
   "mimetype": "text/x-python",
   "name": "python",
   "nbconvert_exporter": "python",
   "pygments_lexer": "ipython3",
   "version": "3.7.1"
  }
 },
 "nbformat": 4,
 "nbformat_minor": 2
}
