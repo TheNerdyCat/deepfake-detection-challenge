{
 "cells": [
  {
   "cell_type": "code",
   "execution_count": 1,
   "metadata": {},
   "outputs": [
    {
     "name": "stderr",
     "output_type": "stream",
     "text": [
      "Using TensorFlow backend.\n"
     ]
    }
   ],
   "source": [
    "#!pip install ../input/mtcnn-package/mtcnn-0.1.0-py3-none-any.whl\n",
    "\n",
    "import pandas as pd\n",
    "import numpy as np\n",
    "import matplotlib.pyplot as plt\n",
    "%matplotlib inline\n",
    "from matplotlib.patches import Rectangle # For drawing rectangle around faces\n",
    "\n",
    "import os\n",
    "import sys\n",
    "import gc\n",
    "\n",
    "import keras\n",
    "from keras import Model, Sequential\n",
    "from keras.layers import *\n",
    "from keras.optimizers import *\n",
    "from keras.callbacks import LearningRateScheduler\n",
    "\n",
    "import torch\n",
    "\n",
    "from sklearn.model_selection import train_test_split\n",
    "from sklearn.metrics import log_loss\n",
    "\n",
    "import cv2\n",
    "from mtcnn import MTCNN\n",
    "\n",
    "from tqdm.notebook import tqdm\n",
    "import random\n",
    "import json # To read the metadata\n",
    "\n",
    "import warnings\n",
    "warnings.filterwarnings(\"ignore\")"
   ]
  },
  {
   "cell_type": "markdown",
   "metadata": {},
   "source": [
    "First we define our directory paths and directory lists - including the directory where we will save our train and test images that we extract from the videos. "
   ]
  },
  {
   "cell_type": "code",
   "execution_count": 2,
   "metadata": {},
   "outputs": [],
   "source": [
    "train_sample_videos_path = '../input/train_sample_videos/'\n",
    "test_videos_path = '../input/test_videos/'\n",
    "train_sample_images_path = \"../input/train_sample_images/\" # path to save train images to\n",
    "test_images_path = \"../input/test_images/\" # path to save test images to\n",
    "\n",
    "test_videos = os.listdir(test_videos_path) # List test vids"
   ]
  },
  {
   "cell_type": "markdown",
   "metadata": {},
   "source": [
    "Now we loop round all the videos in our directory to extract images for each video."
   ]
  },
  {
   "cell_type": "code",
   "execution_count": 3,
   "metadata": {},
   "outputs": [],
   "source": [
    "def extract_faces(videos_dir_path, images_dir_path, frames=1, conf_level=0.95):\n",
    "    \"\"\"\n",
    "    Inputs a directory of videos, extracts n frames. \n",
    "    Outputs images of ANY faces detected in those frames.\n",
    "    \n",
    "    videos_dir_path: (str) Path to your directory of videos\n",
    "    images_dir_path: (str) Path to where you'll save your images to\n",
    "    frames: (int or list) Number of frames. If int, take that many \n",
    "            frames. If list, take frame numbers specified in list. \n",
    "    \"\"\"\n",
    "    def crop(img, x, y, w, h):\n",
    "        \"\"\"\n",
    "        Crop and reshape images to be uniform across all frames\n",
    "        \"\"\"\n",
    "        x -= 40\n",
    "        y -= 40\n",
    "        w += 80\n",
    "        h += 80\n",
    "        if x < 0:\n",
    "            x = 0\n",
    "        if y <= 0:\n",
    "            y = 0\n",
    "        return cv2.cvtColor(cv2.resize(img[y:y + h, x:x + w], (256, 256)), cv2.COLOR_BGR2RGB)\n",
    "    \n",
    "    device = 'CUDA:0' if torch.cuda.is_available() else 'CPU'\n",
    "    print(f'Running on device: {device}')\n",
    "    videos_dir = os.listdir(videos_dir_path) # List train vids\n",
    "    \n",
    "    # Extract images from videos\n",
    "    if type(frames) == list:\n",
    "        print(f'Extracting frames {frames} from videos')\n",
    "    else:\n",
    "        print(f'Extracting {frames} random frames from videos')\n",
    "        \n",
    "    with tqdm(total=len(range(0,50))) as pbar: # Edited out len(videos_dir) for dev\n",
    "        for i in range(0, 50): # Edited out len(videos_dir) for dev\n",
    "            file_name = videos_dir[i] # file name with .ext\n",
    "            vid_name = file_name.split('.')[0] # file name without .ext\n",
    "            file_path = videos_dir_path + file_name # full file path\n",
    "\n",
    "            if type(frames) == list:\n",
    "                for num in range(0, len(frames)):\n",
    "                    cap = cv2.VideoCapture(file_path)\n",
    "                    total_frames = cap.get(7)\n",
    "                    vid_length = int(cap.get(cv2.CAP_PROP_FRAME_COUNT))\n",
    "                    cap.set(1, num) # EDIT HERE FOR FRAME NUMBER\n",
    "                    ret, frame = cap.read()\n",
    "                    image_name = vid_name + '_' + str(num) + '.jpg'\n",
    "                    cv2.imwrite(os.path.join(train_sample_images_path, image_name), frame) # Save frame as image\n",
    "                    cv2.destroyAllWindows()\n",
    "                    cap.release()\n",
    "            else:\n",
    "                for num in range(0, frames):\n",
    "                    cap = cv2.VideoCapture(file_path)\n",
    "                    total_frames = cap.get(7)\n",
    "                    vid_length = int(cap.get(cv2.CAP_PROP_FRAME_COUNT))\n",
    "                    cap.set(1, random.randint(0, vid_length)) # EDIT HERE FOR FRAME NUMBER\n",
    "                    ret, frame = cap.read()\n",
    "                    image_name = vid_name + '_' + str(num) + '.jpg'\n",
    "                    cv2.imwrite(os.path.join(train_sample_images_path, image_name), frame) # Save frame as image\n",
    "                    cv2.destroyAllWindows()\n",
    "                    cap.release()\n",
    "            pbar.update(1)\n",
    "    \n",
    "    images_dir = os.listdir(images_dir_path) # List newly created training images\n",
    "    detector = MTCNN()\n",
    "\n",
    "    print('Extracting faces from frames')\n",
    "    with tqdm(total=len(images_dir)) as pbar:\n",
    "        for image in range(0, len(images_dir)):\n",
    "            image_name = images_dir[image].split('.')[0] # Get image name without .ext\n",
    "\n",
    "            # Read image and detect faces\n",
    "            frame = cv2.imread(images_dir_path + images_dir[image])\n",
    "            result = detector.detect_faces(frame)\n",
    "\n",
    "            # Extract and save faces as their own images\n",
    "            for face in range(0, len(result)):\n",
    "                # Only extract the face if confidence is more than or equal to default 0.95\n",
    "                if result[face]['confidence'] >= conf_level:            \n",
    "                    startX, startY, endX, endY = result[face]['box'] # Get box coordinates\n",
    "                    #crop_img = frame[startY:startY + endY, startX:startX + endX] # extract just the face\n",
    "                    crop_img = crop(frame, startX, startY, endX, endY)\n",
    "                    cv2.imwrite(images_dir_path + image_name + '_' + str(face) + '.jpg', crop_img)\n",
    "            os.remove(images_dir_path + images_dir[image]) # Delete original image\n",
    "            pbar.update(1)"
   ]
  },
  {
   "cell_type": "code",
   "execution_count": 4,
   "metadata": {},
   "outputs": [
    {
     "name": "stdout",
     "output_type": "stream",
     "text": [
      "Running on device: CPU\n",
      "Extracting 2 random frames from videos\n"
     ]
    },
    {
     "data": {
      "application/vnd.jupyter.widget-view+json": {
       "model_id": "9a430c97a50045c48ebc66df79d89942",
       "version_major": 2,
       "version_minor": 0
      },
      "text/plain": [
       "HBox(children=(FloatProgress(value=0.0, max=50.0), HTML(value='')))"
      ]
     },
     "metadata": {},
     "output_type": "display_data"
    },
    {
     "name": "stdout",
     "output_type": "stream",
     "text": [
      "\n",
      "WARNING:tensorflow:From C:\\Users\\Edward Sims\\Anaconda3\\lib\\site-packages\\tensorflow\\python\\framework\\op_def_library.py:263: colocate_with (from tensorflow.python.framework.ops) is deprecated and will be removed in a future version.\n",
      "Instructions for updating:\n",
      "Colocations handled automatically by placer.\n",
      "Extracting faces from frames\n"
     ]
    },
    {
     "data": {
      "application/vnd.jupyter.widget-view+json": {
       "model_id": "8c933603abc24da189eacb3b787f348f",
       "version_major": 2,
       "version_minor": 0
      },
      "text/plain": [
       "HBox(children=(FloatProgress(value=0.0), HTML(value='')))"
      ]
     },
     "metadata": {},
     "output_type": "display_data"
    },
    {
     "name": "stdout",
     "output_type": "stream",
     "text": [
      "\n"
     ]
    }
   ],
   "source": [
    "extract_faces(train_sample_videos_path, train_sample_images_path, frames=2)"
   ]
  },
  {
   "cell_type": "markdown",
   "metadata": {},
   "source": [
    "## Read Images\n",
    "Read our extracted faces, and define X and X_val. Then read the metadata to label the extracted faces as FAKE or REAL."
   ]
  },
  {
   "cell_type": "code",
   "execution_count": 5,
   "metadata": {},
   "outputs": [],
   "source": [
    "train_sample_images = os.listdir('../input/train_sample_images/')\n",
    "# Read in metadata\n",
    "with open('../input/train_sample_videos/metadata.json') as json_file:\n",
    "    metadata = json.load(json_file)\n",
    "\n",
    "X = []\n",
    "for img in train_sample_images:\n",
    "    img = train_sample_images_path + img\n",
    "    img = cv2.cvtColor(cv2.imread(img), cv2.COLOR_BGR2RGB)\n",
    "    X.append(img)\n",
    "\n",
    "y = []\n",
    "for label in train_sample_images:\n",
    "    if metadata[label.split('_')[0] + '.mp4']['label'] == 'REAL':\n",
    "        y.append(0)\n",
    "    else:\n",
    "        y.append(1)"
   ]
  },
  {
   "cell_type": "code",
   "execution_count": 6,
   "metadata": {},
   "outputs": [],
   "source": [
    "# Create X_val from 10% of X\n",
    "X_val = X[:round(len(X) / 100 * 25)]\n",
    "X = X[round(len(X) / 100 * 25):]\n",
    "\n",
    "# Create y_val from 10% of y\n",
    "y_val = y[:round(len(y) / 100 * 25)]\n",
    "y = y[round(len(y) / 100 * 25):]"
   ]
  },
  {
   "cell_type": "code",
   "execution_count": 7,
   "metadata": {},
   "outputs": [],
   "source": [
    "def shuffle(X, y):\n",
    "    new_train = []\n",
    "    for m, n in zip(X, y):\n",
    "        new_train.append([m, n])\n",
    "    random.shuffle(new_train)\n",
    "    X, y = [], []\n",
    "    for x in new_train:\n",
    "        X.append(x[0])\n",
    "        y.append(x[1])\n",
    "    return X, y\n",
    "\n",
    "X, y = shuffle(X, y)\n",
    "X_val, y_val = shuffle(X_val, y_val)"
   ]
  },
  {
   "cell_type": "code",
   "execution_count": 10,
   "metadata": {},
   "outputs": [
    {
     "name": "stdout",
     "output_type": "stream",
     "text": [
      "WARNING:tensorflow:From C:\\Users\\Edward Sims\\Anaconda3\\lib\\site-packages\\keras\\backend\\tensorflow_backend.py:3445: calling dropout (from tensorflow.python.ops.nn_ops) with keep_prob is deprecated and will be removed in a future version.\n",
      "Instructions for updating:\n",
      "Please use `rate` instead of `keep_prob`. Rate should be set to `rate = 1 - keep_prob`.\n"
     ]
    }
   ],
   "source": [
    "def InceptionLayer(a, b, c, d):\n",
    "    def func(x):\n",
    "        x1 = Conv2D(a, (1, 1), padding='same', activation='elu')(x)\n",
    "        \n",
    "        x2 = Conv2D(b, (1, 1), padding='same', activation='elu')(x)\n",
    "        x2 = Conv2D(b, (3, 3), padding='same', activation='elu')(x2)\n",
    "            \n",
    "        x3 = Conv2D(c, (1, 1), padding='same', activation='elu')(x)\n",
    "        x3 = Conv2D(c, (3, 3), dilation_rate = 2, strides=1, padding='same', activation='elu')(x3)\n",
    "        \n",
    "        x4 = Conv2D(d, (1, 1), padding='same', activation='elu')(x)\n",
    "        x4 = Conv2D(d, (3, 3), dilation_rate=3, strides=1, padding='same', activation='elu')(x4)\n",
    "        y = Concatenate(axis = -1)([x1, x2, x3, x4])\n",
    "            \n",
    "        return y\n",
    "    return func\n",
    "    \n",
    "def define_model(shape=(256, 256, 3)):\n",
    "    x = Input(shape=shape)\n",
    "    \n",
    "    x1 = InceptionLayer(1, 4, 4, 2)(x)\n",
    "    x1 = BatchNormalization()(x1)\n",
    "    x1 = MaxPooling2D(pool_size=(2, 2), padding='same')(x1)\n",
    "    \n",
    "    x2 = InceptionLayer(2, 4, 4, 2)(x1)\n",
    "    x2 = BatchNormalization()(x2)        \n",
    "    x2 = MaxPooling2D(pool_size=(2, 2), padding='same')(x2)        \n",
    "        \n",
    "    x3 = Conv2D(16, (5, 5), padding='same', activation='elu')(x2)\n",
    "    x3 = BatchNormalization()(x3)\n",
    "    x3 = MaxPooling2D(pool_size=(2, 2), padding='same')(x3)\n",
    "        \n",
    "    x4 = Conv2D(16, (5, 5), padding='same', activation='elu')(x3)\n",
    "    x4 = BatchNormalization()(x4)\n",
    "    x4 = MaxPooling2D(pool_size=(4, 4), padding='same')(x4)\n",
    "    \n",
    "    y = Flatten()(x4)\n",
    "    y = Dropout(0.5)(y)\n",
    "    y = Dense(16)(y)\n",
    "    y = LeakyReLU(alpha=0.1)(y)\n",
    "    y = Dropout(0.5)(y)\n",
    "    y = Dense(1, activation='sigmoid')(y)\n",
    "    model = Model(inputs=x, outputs=y)\n",
    "    model.compile(loss='binary_crossentropy', optimizer=Adam(lr=1e-4))\n",
    "    return model\n",
    "\n",
    "df_model = define_model()"
   ]
  },
  {
   "cell_type": "code",
   "execution_count": 11,
   "metadata": {},
   "outputs": [],
   "source": [
    "lrs = [1e-3, 5e-4, 1e-4]\n",
    "def schedule(epoch):\n",
    "    return lrs[epoch]\n",
    "\n",
    "LOAD_PRETRAIN = False"
   ]
  },
  {
   "cell_type": "code",
   "execution_count": 12,
   "metadata": {},
   "outputs": [
    {
     "name": "stdout",
     "output_type": "stream",
     "text": [
      "WARNING:tensorflow:From C:\\Users\\Edward Sims\\Anaconda3\\lib\\site-packages\\tensorflow\\python\\ops\\math_ops.py:3066: to_int32 (from tensorflow.python.ops.math_ops) is deprecated and will be removed in a future version.\n",
      "Instructions for updating:\n",
      "Use tf.cast instead.\n",
      "Epoch 1/2\n",
      "73/73 [==============================] - 13s 177ms/step - loss: 1.7694\n",
      "Epoch 2/2\n",
      "73/73 [==============================] - 9s 120ms/step - loss: 1.0257\n",
      "Fold 0 model loss: 0.3695797858975425\n",
      "Epoch 1/2\n",
      "73/73 [==============================] - 12s 169ms/step - loss: 0.9851\n",
      "Epoch 2/2\n",
      "73/73 [==============================] - 9s 126ms/step - loss: 0.8909\n",
      "Fold 1 model loss: 0.46828508221854764\n",
      "Epoch 1/2\n",
      "73/73 [==============================] - 16s 214ms/step - loss: 1.3655\n",
      "Epoch 2/2\n",
      "73/73 [==============================] - 11s 155ms/step - loss: 0.8076\n",
      "Fold 2 model loss: 0.5229524488095194\n",
      "Epoch 1/2\n",
      "73/73 [==============================] - 14s 186ms/step - loss: 1.8967\n",
      "Epoch 2/2\n",
      "73/73 [==============================] - 10s 134ms/step - loss: 0.7274\n",
      "Fold 3 model loss: 0.4476685812987853\n",
      "Epoch 1/2\n",
      "73/73 [==============================] - 12s 165ms/step - loss: 1.4819\n",
      "Epoch 2/2\n",
      "73/73 [==============================] - 9s 117ms/step - loss: 1.0130\n",
      "Fold 4 model loss: 0.712765004185106\n",
      "loss too bad, retrain!\n",
      "Epoch 1/2\n",
      "73/73 [==============================] - 14s 194ms/step - loss: 1.2831\n",
      "Epoch 2/2\n",
      "73/73 [==============================] - 9s 125ms/step - loss: 0.9875\n",
      "Fold 5 model loss: 0.33790978603065014\n"
     ]
    }
   ],
   "source": [
    "kfolds = 5\n",
    "losses = []\n",
    "\n",
    "models = []\n",
    "i = 0\n",
    "while len(models) < kfolds:\n",
    "    model = define_model()\n",
    "    model.fit([X], [y], epochs=2, callbacks=[LearningRateScheduler(schedule)])\n",
    "    pred = model.predict([X_val])\n",
    "    loss = log_loss(y_val, pred)\n",
    "    losses.append(loss)\n",
    "    print('Fold ' + str(i) + ' model loss: ' + str(loss))\n",
    "    if loss < 0.68:\n",
    "        models.append(model)\n",
    "    else:\n",
    "        print('##############')\n",
    "        print('Retraining')\n",
    "        print('##############')\n",
    "    K.clear_session()\n",
    "    del model\n",
    "    gc.collect()\n",
    "    i += 1"
   ]
  },
  {
   "cell_type": "code",
   "execution_count": null,
   "metadata": {},
   "outputs": [],
   "source": []
  }
 ],
 "metadata": {
  "kernelspec": {
   "display_name": "'Python Interactive'",
   "language": "python",
   "name": "a8dae707-2c7a-4728-90dd-23e595076851"
  },
  "language_info": {
   "codemirror_mode": {
    "name": "ipython",
    "version": 3
   },
   "file_extension": ".py",
   "mimetype": "text/x-python",
   "name": "python",
   "nbconvert_exporter": "python",
   "pygments_lexer": "ipython3",
   "version": "3.7.1"
  }
 },
 "nbformat": 4,
 "nbformat_minor": 2
}
