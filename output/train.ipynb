{
 "cells": [
  {
   "cell_type": "markdown",
   "metadata": {},
   "source": [
    "# Train\n",
    "\n",
    "Following from [Preprocessing](https://github.com/TheNerdyCat/deepfake-detection-challenge/blob/master/output/preprocessing.ipynb), this stage will look at data augmentation and subsequently training the model.\n",
    "\n",
    "First we will undersample the images to balance REAL and FAKE images in both the train and validation sets. There are actually more FAKE images than REAL in this dataset, so this will be addressed accordingly.\n",
    "\n",
    "We will read our extracted faces using OpenCV and perform any data augmentation. Following this, we will define X and X_val. Then we'll read the metadata to label the extracted faces as FAKE or REAL, defining them into y and y_val.\n",
    "\n",
    "After we have our training data and validation data ready and shuffled, we'll train our model."
   ]
  },
  {
   "cell_type": "code",
   "execution_count": 2,
   "metadata": {},
   "outputs": [
    {
     "name": "stdout",
     "output_type": "stream",
     "text": [
      "Num GPUs Available:  1\n"
     ]
    }
   ],
   "source": [
    "import pandas as pd\n",
    "import numpy as np\n",
    "\n",
    "import os\n",
    "import json # To read the metadata\n",
    "\n",
    "import tensorflow as tf\n",
    "from tensorflow import keras\n",
    "from tensorflow.python.keras import backend as k\n",
    "\n",
    "from tensorflow.keras import layers\n",
    "from tensorflow.keras.layers import Input, Add, Dense, Activation, ZeroPadding2D, BatchNormalization, Flatten, Conv2D, AveragePooling2D, MaxPooling2D\n",
    "from tensorflow.keras.models import Model, load_model\n",
    "from tensorflow.keras.initializers import glorot_uniform\n",
    "from tensorflow.keras.callbacks import Callback, EarlyStopping\n",
    "\n",
    "#import torch\n",
    "#import keras\n",
    "#from keras import Model, Sequential\n",
    "#from keras.layers import *\n",
    "#from keras.optimizers import *\n",
    "#from keras.callbacks import LearningRateScheduler\n",
    "\n",
    "import cv2\n",
    "\n",
    "from sklearn.model_selection import KFold\n",
    "from sklearn.metrics import log_loss\n",
    "\n",
    "from tqdm.notebook import tqdm\n",
    "import random\n",
    "import gc\n",
    "\n",
    "import warnings\n",
    "warnings.filterwarnings(\"ignore\")\n",
    "\n",
    "#tf.debugging.set_log_device_placement(True) # Enable GPU logging\n",
    "print(\"Num GPUs Available: \", len(tf.config.experimental.list_physical_devices('GPU')))"
   ]
  },
  {
   "cell_type": "code",
   "execution_count": 3,
   "metadata": {},
   "outputs": [],
   "source": [
    "train_images_path = '../input/train_images/'\n",
    "train_images = os.listdir(train_images_path)\n",
    "metadata_path = '../input/train_metadata/'\n",
    "metadata_dir = os.listdir(metadata_path)\n",
    "\n",
    "# Read in all the metadata files to make one inclusive dict\n",
    "metadata = {}\n",
    "for i, file in enumerate(metadata_dir):\n",
    "    with open('../input/train_metadata/' + file) as json_file:\n",
    "        metadata = {**metadata, **json.load(json_file)}\n",
    "\n",
    "X_paths = []\n",
    "for img in train_images:\n",
    "    img = train_images_path + img\n",
    "    X_paths.append(img)\n",
    "\n",
    "y = []\n",
    "for label in train_images:\n",
    "    if metadata[label.split('_')[0] + '.mp4']['label'] == 'REAL':\n",
    "        y.append(0)\n",
    "    else:\n",
    "        y.append(1)"
   ]
  },
  {
   "cell_type": "code",
   "execution_count": 4,
   "metadata": {},
   "outputs": [],
   "source": [
    "def shuffle(X, y):\n",
    "    new_train = []\n",
    "    for m, n in zip(X, y):\n",
    "        new_train.append([m, n])\n",
    "    random.shuffle(new_train)\n",
    "    X, y = [], []\n",
    "    for x in new_train:\n",
    "        X.append(x[0])\n",
    "        y.append(x[1])\n",
    "    return X, y"
   ]
  },
  {
   "cell_type": "code",
   "execution_count": 5,
   "metadata": {},
   "outputs": [],
   "source": [
    "X_paths, y = shuffle(X_paths, y)\n",
    "\n",
    "# Create X_test from 10% of X\n",
    "X_test_paths = X_paths[:round(len(X_paths) / 100 * 25)]\n",
    "X_paths = X_paths[round(len(X_paths) / 100 * 25):]\n",
    "\n",
    "# Create y_test from 10% of y\n",
    "y_test = y[:round(len(y) / 100 * 25)]\n",
    "y = y[round(len(y) / 100 * 25):]"
   ]
  },
  {
   "cell_type": "code",
   "execution_count": 6,
   "metadata": {},
   "outputs": [],
   "source": [
    "X_paths, y = shuffle(X_paths, y)\n",
    "X_test_paths, y_test = shuffle(X_test_paths, y_test)"
   ]
  },
  {
   "cell_type": "code",
   "execution_count": 7,
   "metadata": {},
   "outputs": [
    {
     "name": "stdout",
     "output_type": "stream",
     "text": [
      "There are 65969 fake train samples\n",
      "There are 13154 real train samples\n",
      "There are 21955 fake test samples\n",
      "There are 4419 real test samples\n"
     ]
    }
   ],
   "source": [
    "print('There are ' + str(y.count(1)) + ' fake train samples')\n",
    "print('There are ' + str(y.count(0)) + ' real train samples')\n",
    "print('There are ' + str(y_test.count(1)) + ' fake test samples')\n",
    "print('There are ' + str(y_test.count(0)) + ' real test samples')"
   ]
  },
  {
   "cell_type": "markdown",
   "metadata": {},
   "source": [
    "## Undersampling\n",
    "Next we'll balance our data, using undersampling techniques. Source for this method can be found [here](https://www.kaggle.com/unkownhihi/starter-kernel-with-cnn-model-ll-lb-0-69235#Apply-Underbalancing-Techinique)"
   ]
  },
  {
   "cell_type": "code",
   "execution_count": 8,
   "metadata": {},
   "outputs": [],
   "source": [
    "real = []\n",
    "fake = []\n",
    "for m, n in zip(X_paths, y):\n",
    "    if n == 0:\n",
    "        real.append(m)\n",
    "    else:\n",
    "        fake.append(m)\n",
    "fake = random.sample(fake, len(real))\n",
    "X_paths, y = [], []\n",
    "for x in real:\n",
    "    X_paths.append(x)\n",
    "    y.append(0)\n",
    "for x in fake:\n",
    "    X_paths.append(x)\n",
    "    y.append(1)"
   ]
  },
  {
   "cell_type": "code",
   "execution_count": 9,
   "metadata": {},
   "outputs": [],
   "source": [
    "real = []\n",
    "fake = []\n",
    "for m, n in zip(X_test_paths, y_test):\n",
    "    if n == 0:\n",
    "        real.append(m)\n",
    "    else:\n",
    "        fake.append(m)\n",
    "fake = random.sample(fake, len(real))\n",
    "X_test_paths, y_test = [], []\n",
    "for x in real:\n",
    "    X_test_paths.append(x)\n",
    "    y_test.append(0)\n",
    "for x in fake:\n",
    "    X_test_paths.append(x)\n",
    "    y_test.append(1)"
   ]
  },
  {
   "cell_type": "code",
   "execution_count": 10,
   "metadata": {},
   "outputs": [],
   "source": [
    "X_paths, y = shuffle(X_paths, y)\n",
    "X_test_paths, y_test = shuffle(X_test_paths, y_test)"
   ]
  },
  {
   "cell_type": "code",
   "execution_count": 11,
   "metadata": {},
   "outputs": [
    {
     "name": "stdout",
     "output_type": "stream",
     "text": [
      "There are 13154 fake train samples\n",
      "There are 13154 real train samples\n",
      "There are 4419 fake test samples\n",
      "There are 4419 real test samples\n"
     ]
    }
   ],
   "source": [
    "print('There are ' + str(y.count(1)) + ' fake train samples')\n",
    "print('There are ' + str(y.count(0)) + ' real train samples')\n",
    "print('There are ' + str(y_test.count(1)) + ' fake test samples')\n",
    "print('There are ' + str(y_test.count(0)) + ' real test samples')"
   ]
  },
  {
   "cell_type": "markdown",
   "metadata": {},
   "source": [
    "## Data Augmentation\n",
    "\n",
    "Data augmentation will go here"
   ]
  },
  {
   "cell_type": "code",
   "execution_count": 12,
   "metadata": {},
   "outputs": [],
   "source": [
    "ROWS = 64\n",
    "COLS = 64\n",
    "CHANNELS = 3\n",
    "CLASSES = 2"
   ]
  },
  {
   "cell_type": "code",
   "execution_count": 13,
   "metadata": {},
   "outputs": [],
   "source": [
    "def read_image(file_path):\n",
    "    img = cv2.imread(file_path, cv2.IMREAD_COLOR)\n",
    "    return cv2.resize(img, (ROWS, COLS), interpolation=cv2.INTER_CUBIC)\n",
    "\n",
    "def prepare_data(images):\n",
    "    m = len(images)\n",
    "    X = np.zeros((m, ROWS, COLS, CHANNELS), dtype=np.uint8)\n",
    "    y = np.zeros((1, m), dtype=np.uint8)\n",
    "    for i, image_file in enumerate(images):\n",
    "        X[i,:] = read_image(image_file)\n",
    "         \n",
    "        if metadata[image_file.split('/')[3].split('_')[0]+'.mp4']['label'] == 'REAL':\n",
    "            y[0, i] = 1\n",
    "        elif metadata[image_file.split('/')[3].split('_')[0]+'.mp4']['label'] == 'FAKE':\n",
    "            y[0, i] = 0\n",
    "    return X, y\n",
    "\n",
    "def convert_to_one_hot(Y, C):\n",
    "    Y = np.eye(C)[Y.reshape(-1)].T\n",
    "    return Y"
   ]
  },
  {
   "cell_type": "code",
   "execution_count": 14,
   "metadata": {},
   "outputs": [],
   "source": [
    "train_set_x, train_set_y = prepare_data(X_paths)\n",
    "test_set_x, test_set_y = prepare_data(X_test_paths)\n",
    "\n",
    "X_train = train_set_x / 255\n",
    "X_test = test_set_x / 255\n",
    "\n",
    "Y_train = convert_to_one_hot(train_set_y, CLASSES).T\n",
    "Y_test = convert_to_one_hot(test_set_y, CLASSES).T"
   ]
  },
  {
   "cell_type": "code",
   "execution_count": 15,
   "metadata": {
    "scrolled": true
   },
   "outputs": [
    {
     "name": "stdout",
     "output_type": "stream",
     "text": [
      "Number of training examples = 26308\n",
      "Number of test examples = 8838\n",
      "X_train shape: (26308, 64, 64, 3)\n",
      "Y_train shape: (26308, 2)\n",
      "X_test shape: (8838, 64, 64, 3)\n",
      "Y_test shape: (8838, 2)\n"
     ]
    }
   ],
   "source": [
    "print (\"Number of training examples =\", X_train.shape[0])\n",
    "print (\"Number of test examples =\", X_test.shape[0])\n",
    "print (\"X_train shape:\", X_train.shape)\n",
    "print (\"Y_train shape:\", Y_train.shape)\n",
    "print (\"X_test shape:\", X_test.shape)\n",
    "print (\"Y_test shape:\", Y_test.shape)"
   ]
  },
  {
   "cell_type": "markdown",
   "metadata": {},
   "source": [
    "## Modelling\n",
    "\n",
    "We implement our ResNet using Keras."
   ]
  },
  {
   "cell_type": "code",
   "execution_count": 16,
   "metadata": {},
   "outputs": [],
   "source": [
    "def identity_block(X, f, filters, stage, block):\n",
    "    # defining name basis\n",
    "    conv_name_base = 'res' + str(stage) + block + '_branch'\n",
    "    bn_name_base = 'bn' + str(stage) + block + '_branch'\n",
    "\n",
    "    # Retrieve Filters\n",
    "    F1, F2, F3 = filters\n",
    "\n",
    "    # Save the input value. We'll need this later to add back to the main path. \n",
    "    X_shortcut = X\n",
    "\n",
    "    # First component of main path\n",
    "    X = Conv2D(filters=F1, kernel_size=(1, 1), strides=(1,1), padding='valid', name=conv_name_base + '2a', kernel_initializer=glorot_uniform(seed=0))(X)\n",
    "    X = BatchNormalization(axis=3, name=bn_name_base + '2a')(X)\n",
    "    X = Activation('relu')(X)\n",
    "\n",
    "    # Second component of main path\n",
    "    X = Conv2D(filters=F2, kernel_size=(f, f), strides=(1,1), padding='same', name=conv_name_base + '2b', kernel_initializer=glorot_uniform(seed=0))(X)\n",
    "    X = BatchNormalization(axis=3, name=bn_name_base + '2b')(X)\n",
    "    X = Activation('relu')(X)\n",
    "\n",
    "    # Third component of main path\n",
    "    X = Conv2D(filters=F3, kernel_size=(1, 1), strides=(1,1), padding='valid', name=conv_name_base + '2c', kernel_initializer=glorot_uniform(seed=0))(X)\n",
    "    X = BatchNormalization(axis=3, name=bn_name_base + '2c')(X)\n",
    "\n",
    "    # Final step: Add shortcut value to main path, and pass it through a RELU activation\n",
    "    X = Add()([X, X_shortcut])\n",
    "    X = Activation('relu')(X)\n",
    "\n",
    "    return X"
   ]
  },
  {
   "cell_type": "code",
   "execution_count": 17,
   "metadata": {},
   "outputs": [],
   "source": [
    "def convolutional_block(X, f, filters, stage, block, s=2):\n",
    "    # defining name basis\n",
    "    conv_name_base='res' + str(stage) + block + '_branch'\n",
    "    bn_name_base='bn' + str(stage) + block + '_branch'\n",
    "    \n",
    "    # Retrieve Filters\n",
    "    F1, F2, F3 = filters\n",
    "    \n",
    "    # Save the input value\n",
    "    X_shortcut = X\n",
    "\n",
    "\n",
    "    ##### MAIN PATH #####\n",
    "    # First component of main path \n",
    "    X = Conv2D(F1, (1, 1), strides=(s,s), name=conv_name_base + '2a', kernel_initializer=glorot_uniform(seed=0))(X)\n",
    "    X = BatchNormalization(axis=3, name=bn_name_base + '2a')(X)\n",
    "    X = Activation('relu')(X)\n",
    "\n",
    "    # Second component of main path\n",
    "    X = Conv2D(filters=F2, kernel_size=(f, f), strides=(1, 1), padding='same', name=conv_name_base + '2b', kernel_initializer=glorot_uniform(seed=0))(X)\n",
    "    X = BatchNormalization(axis=3, name=bn_name_base + '2b')(X)\n",
    "    X = Activation('relu')(X)\n",
    "\n",
    "    # Third component of main path\n",
    "    X = Conv2D(filters=F3, kernel_size=(1, 1), strides=(1, 1), padding='valid', name=conv_name_base + '2c', kernel_initializer=glorot_uniform(seed=0))(X)\n",
    "    X = BatchNormalization(axis=3, name=bn_name_base + '2c')(X)\n",
    "\n",
    "    \n",
    "    ##### SHORTCUT PATH ####\n",
    "    X_shortcut = Conv2D(F3, (1, 1), strides=(s,s), name = conv_name_base + '1', kernel_initializer=glorot_uniform(seed=0))(X_shortcut)\n",
    "    X_shortcut = BatchNormalization(axis=3, name=bn_name_base + '1')(X_shortcut)\n",
    "\n",
    "    # Final step: Add shortcut value to main path, and pass it through a RELU activation\n",
    "    X = Add()([X, X_shortcut])\n",
    "    X = Activation('relu')(X)\n",
    "    \n",
    "    return X"
   ]
  },
  {
   "cell_type": "code",
   "execution_count": 18,
   "metadata": {},
   "outputs": [],
   "source": [
    "def ResNet50(input_shape = (64, 64, 3), classes=2):   \n",
    "    # Define the input as a tensor with shape input_shape\n",
    "    X_input = Input(input_shape)\n",
    "\n",
    "    # Zero-Padding\n",
    "    X = ZeroPadding2D((3, 3))(X_input)\n",
    "    \n",
    "    # Stage 1\n",
    "    X = Conv2D(64, (7, 7), strides=(2, 2), name='conv1', kernel_initializer=glorot_uniform(seed=0))(X)\n",
    "    X = BatchNormalization(axis=3, name='bn_conv1')(X)\n",
    "    X = Activation('relu')(X)\n",
    "    X = MaxPooling2D((3, 3), strides=(2, 2))(X)\n",
    "\n",
    "    # Stage 2\n",
    "    X = convolutional_block(X, f=3, filters=[64, 64, 256], stage=2, block='a', s=1)\n",
    "    X = identity_block(X, 3, [64, 64, 256], stage=2, block='b')\n",
    "    X = identity_block(X, 3, [64, 64, 256], stage=2, block='c')\n",
    "\n",
    "    # Stage 3\n",
    "    X = convolutional_block(X, f=3, filters=[128, 128, 512], stage=3, block='a', s=2)\n",
    "    X = identity_block(X, 3, [128, 128, 512], stage=3, block='b')\n",
    "    X = identity_block(X, 3, [128, 128, 512], stage=3, block='c')\n",
    "    X = identity_block(X, 3, [128, 128, 512], stage=3, block='d')\n",
    "\n",
    "    # Stage 4\n",
    "    X = convolutional_block(X, f=3, filters=[256, 256, 1024], stage=4, block='a', s=2)\n",
    "    X = identity_block(X, 3, [256, 256, 1024], stage=4, block='b')\n",
    "    X = identity_block(X, 3, [256, 256, 1024], stage=4, block='c')\n",
    "    X = identity_block(X, 3, [256, 256, 1024], stage=4, block='d')\n",
    "    X = identity_block(X, 3, [256, 256, 1024], stage=4, block='e')\n",
    "    X = identity_block(X, 3, [256, 256, 1024], stage=4, block='f')\n",
    "\n",
    "    # Stage 5\n",
    "    X = convolutional_block(X, f=3, filters=[512, 512, 2048], stage=5, block='a', s=2)\n",
    "    X = identity_block(X, 3, [512, 512, 2048], stage=5, block='b')\n",
    "    X = identity_block(X, 3, [512, 512, 2048], stage=5, block='c')\n",
    "\n",
    "    # AVGPOOL.\n",
    "    X = AveragePooling2D((2, 2), name='avg_pool')(X)\n",
    "\n",
    "    # output layer\n",
    "    X = Flatten()(X)\n",
    "    X = Dense(classes, activation='sigmoid', name='fc' + str(classes), kernel_initializer=glorot_uniform(seed=0))(X)\n",
    "    \n",
    "    # Create model\n",
    "    model = Model(inputs=X_input, outputs=X, name='ResNet50')\n",
    "\n",
    "    return model"
   ]
  },
  {
   "cell_type": "code",
   "execution_count": 19,
   "metadata": {
    "scrolled": true
   },
   "outputs": [
    {
     "name": "stdout",
     "output_type": "stream",
     "text": [
      "Fold : 0\n",
      "Train on 26308 samples\n",
      "Epoch 1/10\n",
      "26308/26308 [==============================] - 46s 2ms/sample - loss: 0.8038\n",
      "Epoch 2/10\n",
      "26308/26308 [==============================] - 31s 1ms/sample - loss: 0.7462\n",
      "Epoch 3/10\n",
      "26308/26308 [==============================] - 32s 1ms/sample - loss: 0.7153\n",
      "Epoch 4/10\n",
      "26308/26308 [==============================] - 33s 1ms/sample - loss: 0.7024\n",
      "Epoch 5/10\n",
      "26308/26308 [==============================] - 33s 1ms/sample - loss: 0.7051\n",
      "Epoch 6/10\n",
      "26308/26308 [==============================] - 34s 1ms/sample - loss: 0.7047\n",
      "Epoch 7/10\n",
      "26308/26308 [==============================] - 34s 1ms/sample - loss: 0.7024\n",
      "Epoch 8/10\n",
      "26308/26308 [==============================] - 34s 1ms/sample - loss: 0.7029\n",
      "Epoch 9/10\n",
      "26308/26308 [==============================] - 34s 1ms/sample - loss: 0.7211\n",
      "Epoch 10/10\n",
      "26308/26308 [==============================] - 34s 1ms/sample - loss: 0.7074\n",
      "\n",
      "Fold 0 log loss: 0.6992001248405364\n",
      "\n",
      "Fold : 1\n",
      "Train on 26308 samples\n",
      "Epoch 1/10\n",
      "26308/26308 [==============================] - 46s 2ms/sample - loss: 0.7812\n",
      "Epoch 2/10\n",
      "26308/26308 [==============================] - 34s 1ms/sample - loss: 0.7487\n",
      "Epoch 3/10\n",
      "26308/26308 [==============================] - 34s 1ms/sample - loss: 0.7157\n",
      "Epoch 4/10\n",
      "26308/26308 [==============================] - 34s 1ms/sample - loss: 0.7026\n",
      "Epoch 5/10\n",
      "26308/26308 [==============================] - 34s 1ms/sample - loss: 0.6962\n",
      "Epoch 6/10\n",
      "26308/26308 [==============================] - 34s 1ms/sample - loss: 0.6923\n",
      "Epoch 7/10\n",
      "26308/26308 [==============================] - 34s 1ms/sample - loss: 0.6861\n",
      "Epoch 8/10\n",
      "26308/26308 [==============================] - 34s 1ms/sample - loss: 0.6557\n",
      "Epoch 9/10\n",
      "26308/26308 [==============================] - 34s 1ms/sample - loss: 0.6382\n",
      "Epoch 10/10\n",
      "26308/26308 [==============================] - 34s 1ms/sample - loss: 0.6274\n",
      "\n",
      "Fold 1 log loss: 1.2799395006537875\n",
      "\n",
      "Fold : 2\n",
      "Train on 26308 samples\n",
      "Epoch 1/10\n",
      "26308/26308 [==============================] - 45s 2ms/sample - loss: 0.7846\n",
      "Epoch 2/10\n",
      "26308/26308 [==============================] - 34s 1ms/sample - loss: 0.7331\n",
      "Epoch 3/10\n",
      "26308/26308 [==============================] - 34s 1ms/sample - loss: 0.7104\n",
      "Epoch 4/10\n",
      "26308/26308 [==============================] - 34s 1ms/sample - loss: 0.7132\n",
      "Epoch 5/10\n",
      "26308/26308 [==============================] - 34s 1ms/sample - loss: 0.7044\n",
      "Epoch 6/10\n",
      "26308/26308 [==============================] - 34s 1ms/sample - loss: 0.7085\n",
      "Epoch 7/10\n",
      "26308/26308 [==============================] - 34s 1ms/sample - loss: 0.7170\n",
      "Epoch 8/10\n",
      "26308/26308 [==============================] - 33s 1ms/sample - loss: 0.7082\n",
      "Epoch 9/10\n",
      "26308/26308 [==============================] - 34s 1ms/sample - loss: 0.7069\n",
      "Epoch 10/10\n",
      "26308/26308 [==============================] - 33s 1ms/sample - loss: 0.7061\n",
      "\n",
      "Fold 2 log loss: 0.9370857150666398\n",
      "\n",
      "Fold : 3\n",
      "Train on 26308 samples\n",
      "Epoch 1/10\n",
      "26308/26308 [==============================] - 45s 2ms/sample - loss: 0.7859\n",
      "Epoch 2/10\n",
      "26308/26308 [==============================] - 34s 1ms/sample - loss: 0.7331\n",
      "Epoch 3/10\n",
      "26308/26308 [==============================] - 34s 1ms/sample - loss: 0.7060\n",
      "Epoch 4/10\n",
      "26308/26308 [==============================] - 34s 1ms/sample - loss: 0.6813\n",
      "Epoch 5/10\n",
      "26308/26308 [==============================] - 34s 1ms/sample - loss: 0.6437\n",
      "Epoch 6/10\n",
      "26308/26308 [==============================] - 34s 1ms/sample - loss: 0.6511\n",
      "Epoch 7/10\n",
      "26308/26308 [==============================] - 34s 1ms/sample - loss: 0.6212\n",
      "Epoch 8/10\n",
      "26308/26308 [==============================] - 34s 1ms/sample - loss: 0.6961\n",
      "Epoch 9/10\n",
      "26308/26308 [==============================] - 34s 1ms/sample - loss: 0.6755\n",
      "Epoch 10/10\n",
      "26308/26308 [==============================] - 34s 1ms/sample - loss: 0.6367\n",
      "\n",
      "Fold 3 log loss: 0.8476774827342617\n",
      "\n",
      "Fold : 4\n",
      "Train on 26308 samples\n",
      "Epoch 1/10\n",
      "26308/26308 [==============================] - 45s 2ms/sample - loss: 0.7829\n",
      "Epoch 2/10\n",
      "26308/26308 [==============================] - 34s 1ms/sample - loss: 0.7256\n",
      "Epoch 3/10\n",
      "26308/26308 [==============================] - 34s 1ms/sample - loss: 0.7032\n",
      "Epoch 4/10\n",
      "26308/26308 [==============================] - 34s 1ms/sample - loss: 0.6675\n",
      "Epoch 5/10\n",
      "26308/26308 [==============================] - 34s 1ms/sample - loss: 0.6758\n",
      "Epoch 6/10\n",
      "26308/26308 [==============================] - 34s 1ms/sample - loss: 0.6956\n",
      "Epoch 7/10\n",
      "26308/26308 [==============================] - 34s 1ms/sample - loss: 0.6562\n",
      "Epoch 8/10\n",
      "26308/26308 [==============================] - 34s 1ms/sample - loss: 0.6373\n",
      "Epoch 9/10\n",
      "26308/26308 [==============================] - 34s 1ms/sample - loss: 0.6595\n",
      "Epoch 10/10\n",
      "26308/26308 [==============================] - 34s 1ms/sample - loss: 0.6107\n",
      "\n",
      "Fold 4 log loss: 0.956792681726417\n",
      "\n"
     ]
    }
   ],
   "source": [
    "kfolds = 5\n",
    "kf = KFold(n_splits=kfolds)\n",
    "losses = []\n",
    "\n",
    "for fold, (tdx, vdx) in enumerate(kf.split(X_train, Y_train)):\n",
    "    print(f'Fold : {fold}')\n",
    "    X, X_val, Y, Y_val = X_train[tdx], X_train[vdx], Y_train[tdx], Y_train[vdx]\n",
    "    model = ResNet50(input_shape=(64, 64, 3), classes=2)\n",
    "    model.compile(optimizer='adam', loss='binary_crossentropy')\n",
    "    es = EarlyStopping(monitor='loss', \n",
    "                   mode='min',\n",
    "                   restore_best_weights=True, \n",
    "                   verbose=2, \n",
    "                   patience=10)\n",
    "    model.fit(X_train, Y_train, callbacks=[es], epochs=10, batch_size=64, verbose=1)\n",
    "    pred = model.predict([X_val])\n",
    "    loss = log_loss(Y_val, pred)\n",
    "    model.save_weights(f'resnet50_{fold}.h5')\n",
    "    print('')\n",
    "    print('Fold ' + str(fold) + ' log loss: ' + str(loss))\n",
    "    print('')\n",
    "    losses.append(loss)\n",
    "    gc.collect()"
   ]
  },
  {
   "cell_type": "code",
   "execution_count": 20,
   "metadata": {
    "scrolled": true
   },
   "outputs": [
    {
     "name": "stdout",
     "output_type": "stream",
     "text": [
      "0.9441391010043285\n"
     ]
    }
   ],
   "source": [
    "print(np.mean(losses))"
   ]
  },
  {
   "cell_type": "code",
   "execution_count": 21,
   "metadata": {},
   "outputs": [
    {
     "name": "stdout",
     "output_type": "stream",
     "text": [
      "Loss = 0.9759235875480826\n"
     ]
    }
   ],
   "source": [
    "preds = model.evaluate(X_test, Y_test, verbose=0)\n",
    "print (\"Loss = \" + str(preds))"
   ]
  },
  {
   "cell_type": "code",
   "execution_count": null,
   "metadata": {},
   "outputs": [],
   "source": []
  }
 ],
 "metadata": {
  "kernelspec": {
   "display_name": "Python 3",
   "language": "python",
   "name": "python3"
  },
  "language_info": {
   "codemirror_mode": {
    "name": "ipython",
    "version": 3
   },
   "file_extension": ".py",
   "mimetype": "text/x-python",
   "name": "python",
   "nbconvert_exporter": "python",
   "pygments_lexer": "ipython3",
   "version": "3.7.6"
  }
 },
 "nbformat": 4,
 "nbformat_minor": 2
}
